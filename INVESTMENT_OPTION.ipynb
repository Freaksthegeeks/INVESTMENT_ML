{
 "cells": [
  {
   "cell_type": "markdown",
   "id": "6cb6e6c6",
   "metadata": {},
   "source": [
    "INVESTMENT OPTION"
   ]
  },
  {
   "cell_type": "markdown",
   "id": "52d132bb",
   "metadata": {},
   "source": [
    "READING DATASET"
   ]
  },
  {
   "cell_type": "code",
   "execution_count": 1,
   "id": "2194584d",
   "metadata": {},
   "outputs": [],
   "source": [
    "import pandas as pd\n",
    "import re\n",
    "import numpy as np\n",
    "import seaborn as sns\n",
    "import matplotlib.pyplot as plt\n",
    "df=pd.read_excel('Investment_Option.xlsx')"
   ]
  },
  {
   "cell_type": "markdown",
   "id": "6f33faf3",
   "metadata": {},
   "source": [
    "CLEANING THE COLUMN"
   ]
  },
  {
   "cell_type": "code",
   "execution_count": 2,
   "id": "1b42d12b",
   "metadata": {},
   "outputs": [],
   "source": [
    "df.columns = (\n",
    "    df.columns\n",
    "    .str.strip()\n",
    "    .str.lower()\n",
    "    .str.replace(\" \", \"_\")\n",
    "    .str.replace(\"-\", \"_\")\n",
    "    .str.replace(r\"[^a-z0-9_]\", \"\", regex=True)\n",
    ")\n"
   ]
  },
  {
   "cell_type": "markdown",
   "id": "8ecba1c2",
   "metadata": {},
   "source": [
    "CHANGING COLUMNS INTO BINARY COLUMNS"
   ]
  },
  {
   "cell_type": "code",
   "execution_count": 3,
   "id": "5b7446ab",
   "metadata": {},
   "outputs": [],
   "source": [
    "\n",
    "df['investment_avenues'] = df['investment_avenues'].str.lower().map({'yes': 1, 'no': 0, 'y': 1, 'n': 0})\n",
    "df['investment_experience'] = df['investment_experience'].str.lower().map({'yes': 1, 'no': 0, 'y': 1, 'n': 0})"
   ]
  },
  {
   "cell_type": "markdown",
   "id": "4d33e308",
   "metadata": {},
   "source": [
    "CHANGING EXPECT COLUMN AS AVERAGE VALUE"
   ]
  },
  {
   "cell_type": "code",
   "execution_count": 4,
   "id": "ff3557ef",
   "metadata": {},
   "outputs": [],
   "source": [
    "def extract_midpoint_percent(val):\n",
    "    if isinstance(val, str):\n",
    "        match = re.findall(r\"(\\d+)\", val)\n",
    "        if len(match) == 2:\n",
    "            return (int(match[0]) + int(match[1])) / 2\n",
    "    return None\n",
    "df['expected_return_pct'] = df['expect'].apply(extract_midpoint_percent)\n"
   ]
  },
  {
   "cell_type": "code",
   "execution_count": 5,
   "id": "8d00bee6",
   "metadata": {},
   "outputs": [
    {
     "data": {
      "text/plain": [
       "array(['1-3 years', 'More than 5 years', '3-5 years', 'Less than 1 year'],\n",
       "      dtype=object)"
      ]
     },
     "execution_count": 5,
     "metadata": {},
     "output_type": "execute_result"
    }
   ],
   "source": [
    "df['investment_period'].unique()"
   ]
  },
  {
   "cell_type": "markdown",
   "id": "bf5eefa1",
   "metadata": {},
   "source": [
    "CHANGING INTO ORDINAL VARIABLE"
   ]
  },
  {
   "cell_type": "code",
   "execution_count": 6,
   "id": "1fa17778",
   "metadata": {},
   "outputs": [],
   "source": [
    "period_map = {\n",
    "    \"Less than 1 year\": 6,   # assume 6 months\n",
    "    \"1-3 years\": 24,         # midpoint ~2 years\n",
    "    \"3-5 years\": 48,         # midpoint ~4 years\n",
    "    \"More than 5 years\": 72           # assume 6 years or more\n",
    "}\n",
    "df[\"investment_period_months\"] = df[\"investment_period\"].map(period_map)"
   ]
  },
  {
   "cell_type": "markdown",
   "id": "40caa5fa",
   "metadata": {},
   "source": [
    "RE-CHANGING VALUES OF INCOME"
   ]
  },
  {
   "cell_type": "code",
   "execution_count": 7,
   "id": "fa12fdca",
   "metadata": {},
   "outputs": [],
   "source": [
    "mean_income=(350000+400000+550000)/3\n",
    "df['income'] = df['income'].replace({\n",
    "    34544: 350000,\n",
    "    98809885: 400000,\n",
    "    556449: 550000,\n",
    "    0:mean_income\n",
    "})\n",
    "df['income'] = df['income'].astype(int)\n",
    "\n"
   ]
  },
  {
   "cell_type": "markdown",
   "id": "a7f54950",
   "metadata": {},
   "source": [
    "FEATURE ENGINEERING"
   ]
  },
  {
   "cell_type": "code",
   "execution_count": 8,
   "id": "1352c0e8",
   "metadata": {},
   "outputs": [
    {
     "data": {
      "text/html": [
       "<div>\n",
       "<style scoped>\n",
       "    .dataframe tbody tr th:only-of-type {\n",
       "        vertical-align: middle;\n",
       "    }\n",
       "\n",
       "    .dataframe tbody tr th {\n",
       "        vertical-align: top;\n",
       "    }\n",
       "\n",
       "    .dataframe thead th {\n",
       "        text-align: right;\n",
       "    }\n",
       "</style>\n",
       "<table border=\"1\" class=\"dataframe\">\n",
       "  <thead>\n",
       "    <tr style=\"text-align: right;\">\n",
       "      <th></th>\n",
       "      <th>gender</th>\n",
       "      <th>age</th>\n",
       "      <th>investment_avenues</th>\n",
       "      <th>mutual_funds</th>\n",
       "      <th>equity_market</th>\n",
       "      <th>debentures</th>\n",
       "      <th>government_bonds</th>\n",
       "      <th>fixed_deposits</th>\n",
       "      <th>objective</th>\n",
       "      <th>income</th>\n",
       "      <th>investment_period</th>\n",
       "      <th>invstment_amount</th>\n",
       "      <th>invest_monitor</th>\n",
       "      <th>investment_experience</th>\n",
       "      <th>expect</th>\n",
       "      <th>expected_return_pct</th>\n",
       "      <th>investment_period_months</th>\n",
       "    </tr>\n",
       "  </thead>\n",
       "  <tbody>\n",
       "    <tr>\n",
       "      <th>0</th>\n",
       "      <td>Female</td>\n",
       "      <td>34</td>\n",
       "      <td>1</td>\n",
       "      <td>1</td>\n",
       "      <td>2</td>\n",
       "      <td>5</td>\n",
       "      <td>3</td>\n",
       "      <td>7</td>\n",
       "      <td>Capital Appreciation</td>\n",
       "      <td>100000</td>\n",
       "      <td>1-3 years</td>\n",
       "      <td>1000</td>\n",
       "      <td>Monthly</td>\n",
       "      <td>1</td>\n",
       "      <td>20%-30%</td>\n",
       "      <td>25.0</td>\n",
       "      <td>24</td>\n",
       "    </tr>\n",
       "    <tr>\n",
       "      <th>1</th>\n",
       "      <td>Female</td>\n",
       "      <td>23</td>\n",
       "      <td>1</td>\n",
       "      <td>4</td>\n",
       "      <td>3</td>\n",
       "      <td>2</td>\n",
       "      <td>1</td>\n",
       "      <td>5</td>\n",
       "      <td>Capital Appreciation</td>\n",
       "      <td>100000</td>\n",
       "      <td>More than 5 years</td>\n",
       "      <td>1000</td>\n",
       "      <td>Weekly</td>\n",
       "      <td>1</td>\n",
       "      <td>20%-30%</td>\n",
       "      <td>25.0</td>\n",
       "      <td>72</td>\n",
       "    </tr>\n",
       "    <tr>\n",
       "      <th>2</th>\n",
       "      <td>Male</td>\n",
       "      <td>30</td>\n",
       "      <td>1</td>\n",
       "      <td>3</td>\n",
       "      <td>6</td>\n",
       "      <td>4</td>\n",
       "      <td>2</td>\n",
       "      <td>5</td>\n",
       "      <td>Capital Appreciation</td>\n",
       "      <td>100000</td>\n",
       "      <td>3-5 years</td>\n",
       "      <td>1000</td>\n",
       "      <td>Daily</td>\n",
       "      <td>1</td>\n",
       "      <td>20%-30%</td>\n",
       "      <td>25.0</td>\n",
       "      <td>48</td>\n",
       "    </tr>\n",
       "    <tr>\n",
       "      <th>3</th>\n",
       "      <td>Male</td>\n",
       "      <td>22</td>\n",
       "      <td>1</td>\n",
       "      <td>2</td>\n",
       "      <td>1</td>\n",
       "      <td>3</td>\n",
       "      <td>7</td>\n",
       "      <td>6</td>\n",
       "      <td>Income</td>\n",
       "      <td>100000</td>\n",
       "      <td>Less than 1 year</td>\n",
       "      <td>1000</td>\n",
       "      <td>Daily</td>\n",
       "      <td>1</td>\n",
       "      <td>10%-20%</td>\n",
       "      <td>15.0</td>\n",
       "      <td>6</td>\n",
       "    </tr>\n",
       "    <tr>\n",
       "      <th>4</th>\n",
       "      <td>Female</td>\n",
       "      <td>24</td>\n",
       "      <td>0</td>\n",
       "      <td>2</td>\n",
       "      <td>1</td>\n",
       "      <td>3</td>\n",
       "      <td>6</td>\n",
       "      <td>4</td>\n",
       "      <td>Income</td>\n",
       "      <td>100000</td>\n",
       "      <td>Less than 1 year</td>\n",
       "      <td>1000</td>\n",
       "      <td>Daily</td>\n",
       "      <td>1</td>\n",
       "      <td>20%-30%</td>\n",
       "      <td>25.0</td>\n",
       "      <td>6</td>\n",
       "    </tr>\n",
       "  </tbody>\n",
       "</table>\n",
       "</div>"
      ],
      "text/plain": [
       "   gender  age  investment_avenues  mutual_funds  equity_market  debentures  \\\n",
       "0  Female   34                   1             1              2           5   \n",
       "1  Female   23                   1             4              3           2   \n",
       "2    Male   30                   1             3              6           4   \n",
       "3    Male   22                   1             2              1           3   \n",
       "4  Female   24                   0             2              1           3   \n",
       "\n",
       "   government_bonds  fixed_deposits             objective  income  \\\n",
       "0                 3               7  Capital Appreciation  100000   \n",
       "1                 1               5  Capital Appreciation  100000   \n",
       "2                 2               5  Capital Appreciation  100000   \n",
       "3                 7               6                Income  100000   \n",
       "4                 6               4                Income  100000   \n",
       "\n",
       "   investment_period  invstment_amount invest_monitor  investment_experience  \\\n",
       "0          1-3 years              1000        Monthly                      1   \n",
       "1  More than 5 years              1000         Weekly                      1   \n",
       "2          3-5 years              1000          Daily                      1   \n",
       "3   Less than 1 year              1000          Daily                      1   \n",
       "4   Less than 1 year              1000          Daily                      1   \n",
       "\n",
       "    expect  expected_return_pct  investment_period_months  \n",
       "0  20%-30%                 25.0                        24  \n",
       "1  20%-30%                 25.0                        72  \n",
       "2  20%-30%                 25.0                        48  \n",
       "3  10%-20%                 15.0                         6  \n",
       "4  20%-30%                 25.0                         6  "
      ]
     },
     "execution_count": 8,
     "metadata": {},
     "output_type": "execute_result"
    }
   ],
   "source": [
    "df.head()"
   ]
  },
  {
   "cell_type": "markdown",
   "id": "e10311f8",
   "metadata": {},
   "source": [
    "Investment_to_income_ratio"
   ]
  },
  {
   "cell_type": "code",
   "execution_count": 9,
   "id": "b71f3f52",
   "metadata": {},
   "outputs": [],
   "source": [
    "df = df.rename(columns={\"invstment_amount\": \"investment_amount\"})\n",
    "df['investment_to_income_ratio'] = df['investment_amount'] / df['income']\n",
    "#Normalize investment size across income levels."
   ]
  },
  {
   "cell_type": "markdown",
   "id": "fb1f6c3d",
   "metadata": {},
   "source": [
    "Risk_score"
   ]
  },
  {
   "cell_type": "code",
   "execution_count": 10,
   "id": "36bdca03",
   "metadata": {},
   "outputs": [],
   "source": [
    "risk_columns = ['mutual_funds', 'equity_market', 'debentures', 'government_bonds', 'fixed_deposits']\n",
    "df['risk_score'] = df[risk_columns].mean(axis=1)  # (average of asset preferences)\n"
   ]
  },
  {
   "cell_type": "markdown",
   "id": "fd6a2477",
   "metadata": {},
   "source": [
    "Liquidity_preference"
   ]
  },
  {
   "cell_type": "code",
   "execution_count": 11,
   "id": "73b00b9f",
   "metadata": {},
   "outputs": [],
   "source": [
    "df['liquidity_preference'] = df['fixed_deposits'] - df['equity_market']   # (fixed income vs market risk)"
   ]
  },
  {
   "cell_type": "markdown",
   "id": "0b3d3c23",
   "metadata": {},
   "source": [
    "Age_bucket"
   ]
  },
  {
   "cell_type": "code",
   "execution_count": 12,
   "id": "6774114a",
   "metadata": {},
   "outputs": [],
   "source": [
    "df['age_bucket'] = pd.cut(\n",
    "    df['age'],\n",
    "    bins=[18, 25, 30, 35, 40, 50, 100],\n",
    "    labels=['18-25', '26-30', '31-35', '36-40', '41-50', '51+'],\n",
    "    right=False\n",
    ")\n",
    "#(grouping into stages of life)"
   ]
  },
  {
   "cell_type": "markdown",
   "id": "1888daac",
   "metadata": {},
   "source": [
    "Objective_encoded "
   ]
  },
  {
   "cell_type": "code",
   "execution_count": 13,
   "id": "e80a7f10",
   "metadata": {},
   "outputs": [],
   "source": [
    "objective_map = {\n",
    "    'Income': 0,\n",
    "    'Capital Appreciation': 1,\n",
    "    'Growth': 2\n",
    "}\n",
    "df['objective_encoded'] = df['objective'].map(objective_map)\n",
    "\n",
    "#(convert goal text to numbers)"
   ]
  },
  {
   "cell_type": "markdown",
   "id": "10e131ac",
   "metadata": {},
   "source": [
    "MODEL PREPARATION"
   ]
  },
  {
   "cell_type": "markdown",
   "id": "bba5034b",
   "metadata": {},
   "source": [
    "INPUTS FOR CLASSIFICATION"
   ]
  },
  {
   "cell_type": "code",
   "execution_count": 14,
   "id": "f7b7fa31",
   "metadata": {},
   "outputs": [],
   "source": [
    "from sklearn.preprocessing import LabelEncoder\n",
    "\n",
    "le = LabelEncoder()\n",
    "df['age_bucket_encoded'] = le.fit_transform(df['age_bucket'])\n"
   ]
  },
  {
   "cell_type": "code",
   "execution_count": 15,
   "id": "f4c2bea5",
   "metadata": {},
   "outputs": [],
   "source": [
    "classification_features = [\n",
    "    'income',\n",
    "    'investment_amount',\n",
    "    'investment_to_income_ratio',\n",
    "    'risk_score',\n",
    "    'liquidity_preference',\n",
    "    'investment_experience',\n",
    "    'age_bucket_encoded'  # Convert to dummy\n",
    "]"
   ]
  },
  {
   "cell_type": "markdown",
   "id": "6563a8f5",
   "metadata": {},
   "source": [
    "INPUTS FOR REGRESSION"
   ]
  },
  {
   "cell_type": "code",
   "execution_count": 16,
   "id": "a0e1de37",
   "metadata": {},
   "outputs": [],
   "source": [
    "regression_features = classification_features  # same as above\n"
   ]
  },
  {
   "cell_type": "markdown",
   "id": "2a9a9556",
   "metadata": {},
   "source": [
    "Encode Categorical Columns"
   ]
  },
  {
   "cell_type": "markdown",
   "id": "a3ed1ca8",
   "metadata": {},
   "source": [
    "SPLITTING DATASET"
   ]
  },
  {
   "cell_type": "code",
   "execution_count": 17,
   "id": "45766b72",
   "metadata": {},
   "outputs": [],
   "source": [
    "from sklearn.model_selection import train_test_split\n",
    "\n",
    "# For classification\n",
    "X_class = df[classification_features]\n",
    "y_class = df['objective_encoded']  # or correct column name\n",
    "\n",
    "X_train_c, X_test_c, y_train_c, y_test_c = train_test_split(\n",
    "    X_class, y_class, test_size=0.2, random_state=42\n",
    ")\n",
    "\n",
    "# For regression\n",
    "X_reg = df[regression_features]\n",
    "y_reg = df['expected_return_pct']  # replace with actual column\n",
    "\n",
    "X_train_r, X_test_r, y_train_r, y_test_r = train_test_split(\n",
    "    X_reg, y_reg, test_size=0.2, random_state=42\n",
    ")\n"
   ]
  },
  {
   "cell_type": "markdown",
   "id": "b2ebd9d3",
   "metadata": {},
   "source": [
    "MODEL BUILDING"
   ]
  },
  {
   "cell_type": "markdown",
   "id": "6f41a4a9",
   "metadata": {},
   "source": [
    "CLASSIFICATION"
   ]
  },
  {
   "cell_type": "code",
   "execution_count": 18,
   "id": "50f043d2",
   "metadata": {},
   "outputs": [
    {
     "name": "stdout",
     "output_type": "stream",
     "text": [
      "Accuracy: 0.9091796875\n",
      "              precision    recall  f1-score   support\n",
      "\n",
      "           0       1.00      1.00      1.00        82\n",
      "           1       0.96      0.90      0.93       673\n",
      "           2       0.78      0.91      0.84       269\n",
      "\n",
      "    accuracy                           0.91      1024\n",
      "   macro avg       0.91      0.94      0.92      1024\n",
      "weighted avg       0.92      0.91      0.91      1024\n",
      "\n"
     ]
    }
   ],
   "source": [
    "from sklearn.tree import DecisionTreeClassifier\n",
    "from sklearn.metrics import accuracy_score, classification_report\n",
    "\n",
    "# Initialize model\n",
    "clf = DecisionTreeClassifier(random_state=42)\n",
    "\n",
    "# Fit the model\n",
    "clf.fit(X_train_c, y_train_c)\n",
    "\n",
    "# Predict on test set\n",
    "y_pred_c = clf.predict(X_test_c)\n",
    "\n",
    "# Evaluate\n",
    "print(\"Accuracy:\", accuracy_score(y_test_c, y_pred_c))\n",
    "print(classification_report(y_test_c, y_pred_c))\n",
    "\n"
   ]
  },
  {
   "cell_type": "markdown",
   "id": "d4de8b7d",
   "metadata": {},
   "source": [
    "REGRESSION"
   ]
  },
  {
   "cell_type": "code",
   "execution_count": 19,
   "id": "a31fa4b2",
   "metadata": {},
   "outputs": [
    {
     "name": "stdout",
     "output_type": "stream",
     "text": [
      "MSE: 15.713207846111828\n",
      "R2 Score: 0.2110017511806579\n"
     ]
    }
   ],
   "source": [
    "from sklearn.linear_model import LinearRegression\n",
    "from sklearn.metrics import mean_squared_error, r2_score\n",
    "from sklearn.model_selection import train_test_split\n",
    "\n",
    "# Train/test split\n",
    "X_train_r, X_test_r, y_train_r, y_test_r = train_test_split(X_reg, y_reg, test_size=0.2, random_state=42)\n",
    "\n",
    "# Model\n",
    "reg = LinearRegression()\n",
    "reg.fit(X_train_r, y_train_r)\n",
    "\n",
    "# Predict\n",
    "y_pred_r = reg.predict(X_test_r)\n",
    "\n",
    "# Evaluate\n",
    "print(\"MSE:\", mean_squared_error(y_test_r, y_pred_r))\n",
    "print(\"R2 Score:\", r2_score(y_test_r, y_pred_r))\n"
   ]
  },
  {
   "cell_type": "code",
   "execution_count": 20,
   "id": "86fafe6e",
   "metadata": {},
   "outputs": [],
   "source": [
    "df.to_excel(\"updated_dataset.xlsx\", index=False)\n"
   ]
  },
  {
   "cell_type": "markdown",
   "id": "8cdc65ff",
   "metadata": {},
   "source": [
    "PICKLE FILE "
   ]
  },
  {
   "cell_type": "code",
   "execution_count": 21,
   "id": "d081f939",
   "metadata": {},
   "outputs": [
    {
     "data": {
      "text/plain": [
       "['regression_model.pkl']"
      ]
     },
     "execution_count": 21,
     "metadata": {},
     "output_type": "execute_result"
    }
   ],
   "source": [
    "import joblib\n",
    "\n",
    "joblib.dump(clf, 'classification_model.pkl')\n",
    "joblib.dump(reg, 'regression_model.pkl')\n"
   ]
  }
 ],
 "metadata": {
  "kernelspec": {
   "display_name": "Python 3",
   "language": "python",
   "name": "python3"
  },
  "language_info": {
   "codemirror_mode": {
    "name": "ipython",
    "version": 3
   },
   "file_extension": ".py",
   "mimetype": "text/x-python",
   "name": "python",
   "nbconvert_exporter": "python",
   "pygments_lexer": "ipython3",
   "version": "3.12.4"
  }
 },
 "nbformat": 4,
 "nbformat_minor": 5
}
